{
 "cells": [
  {
   "cell_type": "markdown",
   "metadata": {},
   "source": [
    "# YOLOv2 物體偵測範例\n",
    "\n",
    "快速介紹如何使用預先訓練YOLOv2的模型來偵測圖像裡的物體對象。"
   ]
  },
  {
   "cell_type": "code",
   "execution_count": 2,
   "metadata": {},
   "outputs": [
    {
     "name": "stderr",
     "output_type": "stream",
     "text": [
      "Using TensorFlow backend.\n"
     ]
    }
   ],
   "source": [
    "import os\n",
    "import random\n",
    "import numpy as np\n",
    "from keras import backend as K\n",
    "from keras.models import load_model\n",
    "from PIL import Image, ImageDraw, ImageFont\n",
    "import colorsys\n",
    "import imghdr\n",
    "from yad2k.models.keras_yolo import yolo_eval, yolo_head\n",
    "import cv2\n",
    "from tqdm import tqdm\n",
    "import time\n",
    "import matplotlib\n",
    "import matplotlib.pyplot as plt\n",
    "\n",
    "%matplotlib inline"
   ]
  },
  {
   "cell_type": "code",
   "execution_count": null,
   "metadata": {
    "collapsed": true
   },
   "outputs": [],
   "source": [
    "# 專案的根目錄路徑\n",
    "ROOT_DIR = os.getcwd()\n",
    "\n",
    "# 設定相關資料的目錄\n",
    "MODEL_PATH = os.path.join(ROOT_DIR, \"model_data\") # path to h5 model file containing body\n",
    "ANCHORS_FILE_PATH = os.path.join(MODEL_PATH, \"yolo_anchors.txt\") # path to anchors file, defaults to yolo_anchors.txt\n",
    "CLASSES_FILE_PATH = os.path.join(MODEL_PATH, \"coco_classes.txt\") # path to classes file, defaults to coco_classes.txt\n",
    "TEST_PATH = os.path.join(ROOT_DIR, \"images\") # path to directory of test images, defaults to images/\n",
    "OUTPUT_PATH = os.path.join(ROOT_DIR, \"images_out\") # path to output test images, defaults to images/out\n",
    "\n",
    "# 設定模型權重檔案\n",
    "MODEL_FILE_PATH = os.path.join(MODEL_PATH, \"yolo.h5\")\n",
    "\n",
    "# 設定相關的閥值\n",
    "SCORE_THRESHOLD = 0.3\n",
    "IOU_THRESHOLD = 0.5"
   ]
  }
 ],
 "metadata": {
  "kernelspec": {
   "display_name": "Python 3",
   "language": "python",
   "name": "python3"
  },
  "language_info": {
   "codemirror_mode": {
    "name": "ipython",
    "version": 3
   },
   "file_extension": ".py",
   "mimetype": "text/x-python",
   "name": "python",
   "nbconvert_exporter": "python",
   "pygments_lexer": "ipython3",
   "version": "3.5.3"
  }
 },
 "nbformat": 4,
 "nbformat_minor": 2
}
